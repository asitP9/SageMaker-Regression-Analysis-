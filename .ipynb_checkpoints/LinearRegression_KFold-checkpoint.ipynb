{
 "cells": [
  {
   "cell_type": "code",
   "execution_count": 39,
   "metadata": {},
   "outputs": [],
   "source": [
    "import pandas as pd\n",
    "import matplotlib.pyplot as plt\n",
    "import numpy as np\n",
    "import sklearn as sk"
   ]
  },
  {
   "cell_type": "code",
   "execution_count": 45,
   "metadata": {},
   "outputs": [
    {
     "name": "stdout",
     "output_type": "stream",
     "text": [
      "KFold(n_splits=10, random_state=None, shuffle=True)\n"
     ]
    }
   ],
   "source": [
    "lifeExpectancyPrediction=pd.read_csv('train.csv')\n",
    "lifeExpectancyPrediction_Test=pd.read_csv('test.csv')\n",
    "\n",
    "from sklearn.model_selection import KFold \n",
    "X = lifeExpectancyPrediction.drop(['ID','TARGET_LifeExpectancy'], axis=1)\n",
    "Y=  lifeExpectancyPrediction[['TARGET_LifeExpectancy']]\n",
    "\n",
    "X_Test = lifeExpectancyPrediction_Test.drop('ID', axis=1)\n",
    "\n",
    "kf = KFold(n_splits=10, shuffle=True)\n",
    "kf.get_n_splits(X)\n",
    "\n",
    "print(kf)"
   ]
  },
  {
   "cell_type": "code",
   "execution_count": 46,
   "metadata": {},
   "outputs": [
    {
     "name": "stdout",
     "output_type": "stream",
     "text": [
      "[-97.91538693]\n",
      "[[ 2.66981460e-03  7.64369896e-02  2.57816360e+00 -6.74637581e-03\n",
      "  -4.42546357e-03 -9.06728806e-03  9.37927488e-02  1.77966092e-01\n",
      "  -3.50017375e-05 -8.23752844e-06  3.00639639e-02 -6.92290104e-02\n",
      "   1.77675180e-02 -2.00176402e-02  3.56922080e-02 -5.13582046e-01\n",
      "   4.98656451e-05 -1.69121647e-09 -7.85692960e-02 -4.20110788e-02\n",
      "   6.91743305e+00  2.02102278e+00]]\n",
      "[-47.62054898]\n",
      "[[ 2.52685790e-03  5.14212380e-02  2.44574918e+00 -6.99164342e-03\n",
      "  -7.79620112e-03 -6.18708573e-03  9.87898773e-02  1.82269213e-01\n",
      "   4.43290054e-05  4.62608105e-08  3.28525372e-02 -7.37687143e-02\n",
      "   1.87342994e-02 -2.72369622e-02  3.29891671e-02 -4.97416981e-01\n",
      "   4.21041132e-05 -2.97291434e-09 -6.27052404e-02 -3.73977545e-02\n",
      "   6.31428289e+00  2.18792684e+00]]\n",
      "[-73.58575119]\n",
      "[[ 4.04389312e-03  6.44761285e-02  2.38703414e+00 -7.08228472e-03\n",
      "  -3.24646851e-03 -1.09181009e-02  9.80656610e-02  2.13498956e-01\n",
      "   1.51900270e-05 -1.11583037e-05  2.94801210e-02 -7.31266686e-02\n",
      "   2.04709104e-02 -5.04935665e-02  3.14475692e-02 -4.84685265e-01\n",
      "   4.01736171e-05 -9.05916538e-10 -6.33407500e-02 -5.39526112e-02\n",
      "   6.05907081e+00  2.17276958e+00]]\n",
      "[-36.25459173]\n",
      "[[ 3.51145073e-03  4.52069960e-02  2.46029823e+00 -6.58663903e-03\n",
      "  -9.60175387e-04 -1.22131027e-02  9.58181333e-02  1.67834842e-01\n",
      "   9.31113261e-06 -4.22728214e-06  3.39609116e-02 -7.10280390e-02\n",
      "   1.95954579e-02  9.31112685e-03  2.95002139e-02 -5.04566105e-01\n",
      "   4.16312893e-05 -1.42199677e-09 -8.85602183e-02 -4.09134654e-02\n",
      "   6.38108456e+00  2.45606057e+00]]\n",
      "[-61.97275434]\n",
      "[[ 3.38007280e-03  5.83772991e-02  2.35255246e+00 -7.10352448e-03\n",
      "  -3.83418810e-03 -1.03728609e-02  8.77000693e-02  1.89298040e-01\n",
      "  -6.42680393e-05 -1.28081240e-05  3.23895067e-02 -6.53241896e-02\n",
      "   2.03583736e-02  3.97043234e-02  3.22160049e-02 -4.83714031e-01\n",
      "   5.07651252e-05 -9.32935727e-10 -1.00598206e-01 -1.03168838e-02\n",
      "   5.94909307e+00  2.22870717e+00]]\n",
      "[-64.869774]\n",
      "[[ 3.01932188e-03  6.00373428e-02  2.38127877e+00 -6.96500849e-03\n",
      "  -1.24102654e-03 -1.26889904e-02  9.74315377e-02  1.85145052e-01\n",
      "  -8.36381948e-06 -1.65769688e-05  2.83718775e-02 -7.19622932e-02\n",
      "   2.04978214e-02  2.86035213e-02  2.76354005e-02 -5.01613973e-01\n",
      "   4.51600120e-05 -1.57558996e-09 -6.88228440e-02 -4.25757869e-02\n",
      "   6.28461632e+00  2.21061074e+00]]\n",
      "[-53.98554471]\n",
      "[[ 2.73500401e-03  5.39277328e-02  2.52880392e+00 -6.44559080e-03\n",
      "   3.23309250e-04 -1.32144909e-02  9.21619738e-02  1.82437036e-01\n",
      "   8.69359744e-06 -4.97430708e-06  3.40535294e-02 -6.86194790e-02\n",
      "   1.74752986e-02  1.28757759e-02  3.42008732e-02 -5.09315579e-01\n",
      "   4.43536235e-05 -8.25327578e-10 -6.40556543e-02 -3.60420071e-02\n",
      "   6.36274659e+00  2.40231656e+00]]\n",
      "[-73.84281036]\n",
      "[[ 3.04055474e-03  6.42576819e-02  2.53243978e+00 -6.85224587e-03\n",
      "  -6.36564548e-05 -1.36408353e-02  9.25476189e-02  1.88241553e-01\n",
      "  -6.71796067e-06 -9.95552680e-06  3.40685337e-02 -6.87290569e-02\n",
      "   2.16048425e-02 -1.69043232e-02  3.08344916e-02 -5.02264788e-01\n",
      "   3.95584239e-05 -1.31263915e-09 -9.47202123e-02 -1.63336407e-02\n",
      "   6.28278663e+00  2.23559166e+00]]\n",
      "[-66.1259625]\n",
      "[[ 2.33705717e-03  6.06644673e-02  2.56122952e+00 -6.62554357e-03\n",
      "  -5.99929337e-03 -7.25179377e-03  9.66254413e-02  2.02506576e-01\n",
      "   2.67422021e-06 -9.48648964e-06  2.74982499e-02 -7.22818306e-02\n",
      "   1.92970948e-02 -7.26627505e-03  3.27619913e-02 -5.21752964e-01\n",
      "   4.05443761e-05 -1.23779716e-09 -6.36695920e-02 -3.51000642e-02\n",
      "   6.10032413e+00  2.16260584e+00]]\n",
      "[-41.6582716]\n",
      "[[ 3.33223586e-03  4.77021877e-02  2.51648183e+00 -6.70523776e-03\n",
      "  -8.05407798e-04 -1.26050677e-02  9.69121196e-02  1.81542365e-01\n",
      "  -1.24141694e-05 -3.54380603e-06  2.92068941e-02 -7.18136674e-02\n",
      "   2.28348574e-02 -7.90350887e-04  2.74148023e-02 -5.13291572e-01\n",
      "   3.84411277e-05 -1.93754786e-09 -7.47063135e-02 -3.74126385e-02\n",
      "   6.35808032e+00  2.62366842e+00]]\n"
     ]
    }
   ],
   "source": [
    "from sklearn import linear_model\n",
    "from sklearn.metrics import mean_squared_error\n",
    "\n",
    "linReg = linear_model.LinearRegression()\n",
    "for train_index, validation_index in kf.split(X):\n",
    "    trainX = np.array(X.loc[train_index])\n",
    "    trainY = np.array(Y.loc[train_index])\n",
    "    validX = np.array(X.loc[validation_index])\n",
    "    validY = np.array(Y.loc[validation_index])\n",
    "    fittedModel=linReg.fit(trainX, trainY)\n",
    "    print(linReg.intercept_)\n",
    "    print(linReg.coef_)\n",
    "    predYRm=linReg.predict(validX)\n",
    "#     print('Mean squared error ', mean_squared_error(validY, predYRm))\n",
    "#     MSEs=mean_squared_error(validY, predYRm)\n",
    "    predictedTestSet=fittedModel.predict(X_Test)\n",
    "#     predictedTestSet\n"
   ]
  },
  {
   "cell_type": "code",
   "execution_count": 47,
   "metadata": {},
   "outputs": [],
   "source": [
    "mean_MSE = np.mean(MSEs)"
   ]
  },
  {
   "cell_type": "code",
   "execution_count": 48,
   "metadata": {},
   "outputs": [
    {
     "data": {
      "text/plain": [
       "19.609503952707982"
      ]
     },
     "execution_count": 48,
     "metadata": {},
     "output_type": "execute_result"
    }
   ],
   "source": [
    "mean_MSE"
   ]
  },
  {
   "cell_type": "code",
   "execution_count": 49,
   "metadata": {},
   "outputs": [],
   "source": [
    "predictedResults=pd.DataFrame(predictedTestSet, columns=['Predicted Life Expectancy']).to_csv('Linear_Prediction_KFOLD.csv')\n"
   ]
  },
  {
   "cell_type": "code",
   "execution_count": null,
   "metadata": {},
   "outputs": [],
   "source": []
  }
 ],
 "metadata": {
  "kernelspec": {
   "display_name": "conda_python3",
   "language": "python",
   "name": "conda_python3"
  },
  "language_info": {
   "codemirror_mode": {
    "name": "ipython",
    "version": 3
   },
   "file_extension": ".py",
   "mimetype": "text/x-python",
   "name": "python",
   "nbconvert_exporter": "python",
   "pygments_lexer": "ipython3",
   "version": "3.6.5"
  }
 },
 "nbformat": 4,
 "nbformat_minor": 4
}
