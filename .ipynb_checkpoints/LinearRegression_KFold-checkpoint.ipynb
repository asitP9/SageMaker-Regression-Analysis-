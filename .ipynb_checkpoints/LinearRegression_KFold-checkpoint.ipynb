{
 "cells": [
  {
   "cell_type": "code",
   "execution_count": 42,
   "metadata": {},
   "outputs": [],
   "source": [
    "import pandas as pd\n",
    "import matplotlib.pyplot as plt\n",
    "import numpy as np\n",
    "import sklearn as sk"
   ]
  },
  {
   "cell_type": "code",
   "execution_count": 43,
   "metadata": {},
   "outputs": [
    {
     "name": "stdout",
     "output_type": "stream",
     "text": [
      "KFold(n_splits=10, random_state=None, shuffle=True)\n"
     ]
    }
   ],
   "source": [
    "lifeExpectancyPrediction_Train=pd.read_csv('train.csv')\n",
    "lifeExpectancyPrediction_Test=pd.read_csv('test.csv')\n",
    "\n",
    "from sklearn.model_selection import KFold, cross_val_score \n",
    "X_Train = lifeExpectancyPrediction_Train.drop(['ID','TARGET_LifeExpectancy'], axis=1)\n",
    "Y_Train=  lifeExpectancyPrediction_Train[['TARGET_LifeExpectancy']]\n",
    "\n",
    "X_Test = lifeExpectancyPrediction_Test.drop('ID', axis=1)\n",
    "\n",
    "\n",
    "# kf = KFold(n_splits=5, shuffle=True)\n",
    "# kf = KFold(n_splits=7, shuffle=True)\n",
    "kf = KFold(n_splits=10, shuffle=True)\n",
    "kf.get_n_splits(X_Train)\n",
    "\n",
    "print(kf)"
   ]
  },
  {
   "cell_type": "code",
   "execution_count": 44,
   "metadata": {},
   "outputs": [
    {
     "name": "stderr",
     "output_type": "stream",
     "text": [
      "/home/ec2-user/anaconda3/envs/python3/lib/python3.6/site-packages/sklearn/preprocessing/data.py:334: DataConversionWarning: Data with input dtype int64, float64 were all converted to float64 by MinMaxScaler.\n",
      "  return self.partial_fit(X, y)\n"
     ]
    }
   ],
   "source": [
    "from sklearn.preprocessing import MinMaxScaler\n",
    "scaledSet_minMax = MinMaxScaler()\n",
    "X_Train_Scaled_minMax=scaledSet_minMax.fit_transform(X_Train)\n"
   ]
  },
  {
   "cell_type": "code",
   "execution_count": 45,
   "metadata": {},
   "outputs": [],
   "source": [
    "scaledSet_minMax.fit(Y_Train)\n",
    "Y_Train_Scaled_minMax = scaledSet_minMax.fit_transform(Y_Train)"
   ]
  },
  {
   "cell_type": "code",
   "execution_count": 46,
   "metadata": {},
   "outputs": [
    {
     "name": "stderr",
     "output_type": "stream",
     "text": [
      "/home/ec2-user/anaconda3/envs/python3/lib/python3.6/site-packages/sklearn/preprocessing/data.py:645: DataConversionWarning: Data with input dtype int64, float64 were all converted to float64 by StandardScaler.\n",
      "  return self.partial_fit(X, y)\n",
      "/home/ec2-user/anaconda3/envs/python3/lib/python3.6/site-packages/sklearn/preprocessing/data.py:645: DataConversionWarning: Data with input dtype int64, float64 were all converted to float64 by StandardScaler.\n",
      "  return self.partial_fit(X, y)\n",
      "/home/ec2-user/anaconda3/envs/python3/lib/python3.6/site-packages/sklearn/base.py:464: DataConversionWarning: Data with input dtype int64, float64 were all converted to float64 by StandardScaler.\n",
      "  return self.fit(X, **fit_params).transform(X)\n"
     ]
    }
   ],
   "source": [
    "from sklearn.preprocessing import StandardScaler\n",
    "\n",
    "scaledSet = StandardScaler()\n",
    "scaledSet.fit(X_Train)\n",
    "X_Train_Scaled_standardScaler = scaledSet.fit_transform(X_Train)"
   ]
  },
  {
   "cell_type": "code",
   "execution_count": 48,
   "metadata": {},
   "outputs": [],
   "source": [
    "scaledSet.fit(Y_Train)\n",
    "Y_Train_Scaled_standardScaler = scaledSet.fit_transform(Y_Train)"
   ]
  },
  {
   "cell_type": "code",
   "execution_count": 49,
   "metadata": {},
   "outputs": [],
   "source": [
    "from sklearn import linear_model\n",
    "from sklearn.metrics import mean_squared_error, mean_absolute_error, r2_score\n",
    "\n",
    "linReg = linear_model.LinearRegression()\n",
    "\n"
   ]
  },
  {
   "cell_type": "code",
   "execution_count": 51,
   "metadata": {},
   "outputs": [
    {
     "name": "stdout",
     "output_type": "stream",
     "text": [
      "[0.3188874]\n",
      "[[ 1.46935439e-02  1.46426485e-02  4.52164420e-02 -1.69006012e+12\n",
      "   8.52293930e+11  8.71664247e+11  3.24219534e+00  5.86695230e-02\n",
      "   7.96803593e-03 -4.92331671e-02  4.89260398e-02 -3.33704232e+00\n",
      "   3.55613698e-02 -8.95220288e-03  5.20589850e-02 -4.82875070e-01\n",
      "   9.19240694e-02 -3.02908377e-02 -3.45820438e-02 -2.07545681e-02\n",
      "   1.06100713e-01  1.82941360e-01]]\n",
      "Mean squared error  0.009730167309486316\n",
      "Mean Absolute error  0.07700916458604481\n",
      "R2  0.7317944313062188\n",
      "[0.32397392]\n",
      "[[ 4.72237620e-04  1.78148212e-02  4.39487803e-02 -8.73978080e-02\n",
      "  -6.32426105e-02 -1.07617420e-01  2.96854518e+00  6.36895611e-02\n",
      "   2.43489322e-03 -3.10329058e-02  4.39501292e-02 -3.05795866e+00\n",
      "   3.99469582e-02 -3.45948492e-03  6.06196956e-02 -4.59762098e-01\n",
      "   1.02699736e-01 -3.29271163e-02 -4.63652692e-02 -1.83747880e-02\n",
      "   1.03586043e-01  1.72424968e-01]]\n",
      "Mean squared error  0.00673559326924334\n",
      "Mean Absolute error  0.06276741928402393\n",
      "R2  0.7503390070133042\n",
      "[0.31551442]\n",
      "[[ 1.04159642e-02  1.61552045e-02  4.23388433e-02 -1.51228156e+12\n",
      "   7.62640557e+11  7.79973296e+11  2.99646764e+00  6.35075682e-02\n",
      "  -5.76831081e-03 -1.52560680e-02  4.75950931e-02 -3.10677945e+00\n",
      "   3.41362496e-02 -1.24842984e-03  5.84028937e-02 -4.48442488e-01\n",
      "   1.09357922e-01 -1.91864278e-02 -4.45026847e-02 -1.30774395e-02\n",
      "   1.03758396e-01  1.84621423e-01]]\n",
      "Mean squared error  0.006653052700254135\n",
      "Mean Absolute error  0.06501483017382975\n",
      "R2  0.7551390010967477\n",
      "[0.32461302]\n",
      "[[ 1.14873357e-02  1.61795422e-02  4.38217414e-02  1.64699974e+12\n",
      "  -8.30578668e+11 -8.49455455e+11  3.04450532e+00  6.27044527e-02\n",
      "   4.69773369e-03 -4.59730952e-02  4.71343140e-02 -3.13655458e+00\n",
      "   2.95034177e-02  5.75118086e-04  5.40551219e-02 -4.57811751e-01\n",
      "   1.15195301e-01 -4.01750194e-02 -2.43715900e-02 -3.30844832e-02\n",
      "   1.02839999e-01  1.80044142e-01]]\n",
      "Mean squared error  0.007238863233704306\n",
      "Mean Absolute error  0.06398633765167773\n",
      "R2  0.7434692745232201\n",
      "[0.31936208]\n",
      "[[ 1.35407470e-02  1.66005670e-02  4.47588491e-02  4.20991217e+12\n",
      "  -2.12305026e+12 -2.17130141e+12  3.08388597e+00  6.31244127e-02\n",
      "  -1.03429653e-02 -3.29354961e-02  4.94519865e-02 -3.17174440e+00\n",
      "   3.57809435e-02  6.85984658e-04  5.88036398e-02 -4.47558929e-01\n",
      "   1.11007044e-01 -3.54542382e-02 -2.37440122e-02 -3.17938778e-02\n",
      "   1.10728539e-01  1.66039549e-01]]\n",
      "Mean squared error  0.005589798200194407\n",
      "Mean Absolute error  0.057061760755092596\n",
      "R2  0.7581463952910997\n",
      "[0.32299464]\n",
      "[[ 8.80632625e-03  1.45202487e-02  4.31630330e-02  2.42306429e+11\n",
      "  -1.22194646e+11 -1.24971797e+11  3.07412644e+00  6.13534499e-02\n",
      "   2.48373208e-04 -6.24594775e-02  4.92791766e-02 -3.15995720e+00\n",
      "   2.98052996e-02  3.31552472e-03  6.05651127e-02 -4.53420107e-01\n",
      "   1.08325598e-01 -3.84137385e-02 -3.83675537e-02 -8.79443239e-03\n",
      "   1.12461874e-01  1.67130373e-01]]\n",
      "Mean squared error  0.006118689840595323\n",
      "Mean Absolute error  0.057060570239358926\n",
      "R2  0.8016295093495187\n",
      "[0.31624725]\n",
      "[[ 9.22715997e-03  1.47475928e-02  4.87954101e-02 -4.69802076e+12\n",
      "   2.36920245e+12  2.42304796e+12  2.99397839e+00  5.77730865e-02\n",
      "  -1.58413252e-02 -3.80377163e-02  5.44934221e-02 -3.08040094e+00\n",
      "   3.40548014e-02 -8.68106834e-04  5.66578762e-02 -4.48590974e-01\n",
      "   1.09431394e-01 -3.70569243e-02 -3.49004767e-02 -2.17841846e-02\n",
      "   1.08498056e-01  1.78570740e-01]]\n",
      "Mean squared error  0.007092756637625871\n",
      "Mean Absolute error  0.06466014100605401\n",
      "R2  0.7358332776227031\n",
      "[0.30501135]\n",
      "[[ 1.58138229e-02  1.57716023e-02  4.84748557e-02  1.01279851e+13\n",
      "  -5.10752257e+12 -5.22360263e+12  3.07397817e+00  5.65264125e-02\n",
      "  -2.12392132e-02 -1.59886175e-02  4.51433028e-02 -3.16376801e+00\n",
      "   3.94996736e-02  5.33953057e-03  4.85020732e-02 -4.74114429e-01\n",
      "   1.13349752e-01 -2.96517034e-02 -5.55452274e-02 -1.20851564e-02\n",
      "   1.05725303e-01  1.92641006e-01]]\n",
      "Mean squared error  0.007241850740500395\n",
      "Mean Absolute error  0.06515731594574585\n",
      "R2  0.7831884886121007\n",
      "[0.30320469]\n",
      "[[ 1.28667155e-02  1.42683848e-02  4.48132808e-02 -7.31098401e+12\n",
      "   3.68691457e+12  3.77070808e+12  3.28892806e+00  5.16934029e-02\n",
      "   1.61335374e-02 -8.16287727e-03  5.42497565e-02 -3.40126691e+00\n",
      "   2.91583307e-02  5.28202008e-03  4.97956151e-02 -4.57966075e-01\n",
      "   8.92825874e-02 -7.58308629e-02 -3.22470466e-02 -1.42687650e-02\n",
      "   1.17379699e-01  1.90301109e-01]]\n",
      "Mean squared error  0.007757608732134284\n",
      "Mean Absolute error  0.06941908247009648\n",
      "R2  0.7127544668347054\n",
      "[0.32584253]\n",
      "[[ 9.24648636e-03  1.51096021e-02  4.58514104e-02  3.13405466e+11\n",
      "  -1.58049748e+11 -1.61641787e+11  3.15612908e+00  6.40635516e-02\n",
      "   6.31168447e-04 -1.80599788e-02  4.63854744e-02 -3.29804014e+00\n",
      "   3.69127967e-02 -1.10869879e-02  4.90402753e-02 -4.55035796e-01\n",
      "   9.75412280e-02 -1.37358008e-02 -4.52308173e-02 -6.67771514e-03\n",
      "   1.07011470e-01  1.78966039e-01]]\n",
      "Mean squared error  0.008607406567269445\n",
      "Mean Absolute error  0.06994920173966093\n",
      "R2  0.7260734433166799\n"
     ]
    }
   ],
   "source": [
    "for train_index, validation_index in kf.split(X_Train_Scaled_standardScaler):\n",
    "    trainX = np.array(X_Train_Scaled_minMax[train_index])\n",
    "    trainY = np.array(Y_Train_Scaled_minMax[train_index])\n",
    "    validX = np.array(X_Train_Scaled_minMax[validation_index])\n",
    "    validY = np.array(Y_Train_Scaled_minMax[validation_index])\n",
    "    fittedModel=linReg.fit(trainX, trainY)\n",
    "    print(linReg.intercept_)\n",
    "    print(linReg.coef_)\n",
    "    predYRm=linReg.predict(validX)\n",
    "    print('Mean squared error ', mean_squared_error(validY, predYRm))\n",
    "    print('Mean Absolute error ', mean_absolute_error(validY, predYRm))\n",
    "    print('R2 ', r2_score(validY, predYRm))\n",
    "    MSEs=mean_squared_error(validY, predYRm)\n",
    "    MAEs=mean_absolute_error(validY, predYRm)\n",
    "    R2s=r2_score(validY, predYRm)\n",
    "    predictedTestSet=fittedModel.predict(validX)\n",
    "#     predictedTestSet\n"
   ]
  },
  {
   "cell_type": "markdown",
   "metadata": {},
   "source": [
    "## R2 means Main Dataset"
   ]
  },
  {
   "cell_type": "code",
   "execution_count": 52,
   "metadata": {},
   "outputs": [
    {
     "name": "stdout",
     "output_type": "stream",
     "text": [
      "0.008607406567269445\n",
      "0.06994920173966093\n",
      "0.7260734433166799\n"
     ]
    }
   ],
   "source": [
    "mean_MSE = np.mean(MSEs)\n",
    "mean_absolute=np.mean(MAEs)\n",
    "mean_R2_score=np.mean(R2s)\n",
    "\n",
    "\n",
    "print(mean_MSE)\n",
    "print(mean_absolute)\n",
    "print(mean_R2_score)\n",
    "\n"
   ]
  },
  {
   "cell_type": "code",
   "execution_count": null,
   "metadata": {},
   "outputs": [],
   "source": []
  },
  {
   "cell_type": "code",
   "execution_count": 53,
   "metadata": {},
   "outputs": [],
   "source": [
    "predictedResults=pd.DataFrame(predictedTestSet, columns=['Predicted Life Expectancy']).to_csv('Linear_Prediction_KFOLD.csv')\n"
   ]
  },
  {
   "cell_type": "code",
   "execution_count": null,
   "metadata": {},
   "outputs": [],
   "source": []
  }
 ],
 "metadata": {
  "kernelspec": {
   "display_name": "conda_python3",
   "language": "python",
   "name": "conda_python3"
  },
  "language_info": {
   "codemirror_mode": {
    "name": "ipython",
    "version": 3
   },
   "file_extension": ".py",
   "mimetype": "text/x-python",
   "name": "python",
   "nbconvert_exporter": "python",
   "pygments_lexer": "ipython3",
   "version": "3.6.5"
  }
 },
 "nbformat": 4,
 "nbformat_minor": 4
}
