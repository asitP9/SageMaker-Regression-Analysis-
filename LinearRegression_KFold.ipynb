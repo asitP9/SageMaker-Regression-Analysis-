{
 "cells": [
  {
   "cell_type": "code",
   "execution_count": 105,
   "metadata": {},
   "outputs": [],
   "source": [
    "import pandas as pd\n",
    "import matplotlib.pyplot as plt\n",
    "import numpy as np\n",
    "import sklearn as sk"
   ]
  },
  {
   "cell_type": "code",
   "execution_count": 115,
   "metadata": {},
   "outputs": [
    {
     "name": "stdout",
     "output_type": "stream",
     "text": [
      "KFold(n_splits=10, random_state=None, shuffle=True)\n"
     ]
    }
   ],
   "source": [
    "lifeExpectancyPrediction_Train=pd.read_csv('train.csv')\n",
    "lifeExpectancyPrediction_Test=pd.read_csv('test.csv')\n",
    "\n",
    "from sklearn.model_selection import KFold \n",
    "X_Train = lifeExpectancyPrediction_Train.drop(['ID','TARGET_LifeExpectancy'], axis=1)\n",
    "Y_Train=  lifeExpectancyPrediction_Train[['TARGET_LifeExpectancy']]\n",
    "\n",
    "X_Test = lifeExpectancyPrediction_Test.drop('ID', axis=1)\n",
    "\n",
    "\n",
    "# kf = KFold(n_splits=5, shuffle=True)\n",
    "kf = KFold(n_splits=7, shuffle=True)\n",
    "# kf = KFold(n_splits=10, shuffle=True)\n",
    "kf.get_n_splits(X_Train)\n",
    "\n",
    "print(kf)"
   ]
  },
  {
   "cell_type": "code",
   "execution_count": 116,
   "metadata": {},
   "outputs": [
    {
     "name": "stderr",
     "output_type": "stream",
     "text": [
      "/home/ec2-user/anaconda3/envs/python3/lib/python3.6/site-packages/sklearn/preprocessing/data.py:334: DataConversionWarning: Data with input dtype int64, float64 were all converted to float64 by MinMaxScaler.\n",
      "  return self.partial_fit(X, y)\n"
     ]
    }
   ],
   "source": [
    "from sklearn.preprocessing import MinMaxScaler\n",
    "scaledSet_minMax = MinMaxScaler()\n",
    "X_Train_Scaled_minMax=scaledSet_minMax.fit_transform(X_Train)\n"
   ]
  },
  {
   "cell_type": "code",
   "execution_count": 117,
   "metadata": {},
   "outputs": [],
   "source": [
    "scaledSet_minMax.fit(Y_Train)\n",
    "Y_Train_Scaled_minMax = scaledSet_minMax.fit_transform(Y_Train)"
   ]
  },
  {
   "cell_type": "code",
   "execution_count": 123,
   "metadata": {},
   "outputs": [
    {
     "name": "stderr",
     "output_type": "stream",
     "text": [
      "/home/ec2-user/anaconda3/envs/python3/lib/python3.6/site-packages/sklearn/preprocessing/data.py:645: DataConversionWarning: Data with input dtype int64, float64 were all converted to float64 by StandardScaler.\n",
      "  return self.partial_fit(X, y)\n",
      "/home/ec2-user/anaconda3/envs/python3/lib/python3.6/site-packages/sklearn/preprocessing/data.py:645: DataConversionWarning: Data with input dtype int64, float64 were all converted to float64 by StandardScaler.\n",
      "  return self.partial_fit(X, y)\n",
      "/home/ec2-user/anaconda3/envs/python3/lib/python3.6/site-packages/sklearn/base.py:464: DataConversionWarning: Data with input dtype int64, float64 were all converted to float64 by StandardScaler.\n",
      "  return self.fit(X, **fit_params).transform(X)\n"
     ]
    }
   ],
   "source": [
    "from sklearn.preprocessing import StandardScaler\n",
    "\n",
    "scaledSet = StandardScaler()\n",
    "scaledSet.fit(X_Train)\n",
    "X_Train_Scaled_standardScaler = scaledSet.fit_transform(X_Train)"
   ]
  },
  {
   "cell_type": "code",
   "execution_count": 124,
   "metadata": {},
   "outputs": [],
   "source": [
    "scaledSet.fit(Y_Train)\n",
    "Y_Train_Scaled_standardScaler = scaledSet.fit_transform(Y_Train)"
   ]
  },
  {
   "cell_type": "code",
   "execution_count": 125,
   "metadata": {},
   "outputs": [],
   "source": [
    "from sklearn import linear_model\n",
    "from sklearn.metrics import mean_squared_error, mean_absolute_error, r2_score\n",
    "\n",
    "linReg = linear_model.LinearRegression()\n",
    "\n"
   ]
  },
  {
   "cell_type": "code",
   "execution_count": 126,
   "metadata": {},
   "outputs": [
    {
     "name": "stdout",
     "output_type": "stream",
     "text": [
      "[0.31956934]\n",
      "[[ 9.05236754e-03  1.77693081e-02  4.19268519e-02 -9.05722903e-02\n",
      "  -8.54035515e-03 -1.67259038e-01  3.02890717e+00  6.21995254e-02\n",
      "   1.06526665e-02  8.73712678e-03  5.20750809e-02 -3.13432347e+00\n",
      "   3.09530365e-02 -2.06726225e-03  5.27046287e-02 -4.53353654e-01\n",
      "   1.00869277e-01 -3.52417893e-02 -3.68909765e-02 -1.67305040e-02\n",
      "   1.06916772e-01  1.81399963e-01]]\n",
      "Mean squared error  0.005818984806228773\n",
      "Mean Absolute error  0.06042520596442526\n",
      "R2  0.7723933582671253\n",
      "[0.31936948]\n",
      "[[ 1.14173915e-02  1.35012509e-02  4.44483669e-02 -4.89790387e+12\n",
      "   2.47000310e+12  2.52613953e+12  2.91417474e+00  5.84829041e-02\n",
      "   3.96627164e-03 -4.27451928e-02  5.17346779e-02 -3.00252509e+00\n",
      "   4.11342206e-02 -3.74471111e-03  5.51333025e-02 -4.50524177e-01\n",
      "   9.26888618e-02 -5.21764554e-02 -2.66416384e-02 -2.73797171e-02\n",
      "   1.03535334e-01  1.76743278e-01]]\n",
      "Mean squared error  0.00932665876747135\n",
      "Mean Absolute error  0.07384094954894495\n",
      "R2  0.6840003959375482\n",
      "[0.31625068]\n",
      "[[ 1.01375109e-02  1.72778656e-02  4.62374241e-02 -8.37633224e+11\n",
      "   4.22416755e+11  4.32017135e+11  3.44422545e+00  6.06101231e-02\n",
      "   7.69612838e-03 -1.91908675e-02  4.76050124e-02 -3.55515263e+00\n",
      "   3.44443771e-02  2.75327689e-03  5.07101925e-02 -4.50273307e-01\n",
      "   9.85787034e-02 -4.86672270e-02 -4.11243602e-02 -7.38506543e-03\n",
      "   1.11989021e-01  1.78687095e-01]]\n",
      "Mean squared error  0.007316207923203593\n",
      "Mean Absolute error  0.06384893580812004\n",
      "R2  0.7139371545301016\n",
      "[0.3075139]\n",
      "[[ 1.21845139e-02  1.33707206e-02  4.42087836e-02  8.41949298e+11\n",
      "  -4.24593342e+11 -4.34243191e+11  3.05243218e+00  6.27951103e-02\n",
      "  -5.96774431e-03 -3.26440217e-02  4.50205156e-02 -3.14436810e+00\n",
      "   3.59148510e-02 -2.37947686e-03  5.55686556e-02 -4.68590581e-01\n",
      "   1.00799333e-01 -3.68867036e-02 -3.20225152e-02 -2.64352168e-02\n",
      "   1.11394682e-01  1.89066108e-01]]\n",
      "Mean squared error  0.006185265686938497\n",
      "Mean Absolute error  0.061249103483645415\n",
      "R2  0.7587093705126982\n",
      "[0.32766498]\n",
      "[[ 8.52800871e-03  1.32106388e-02  4.35159190e-02  4.84237702e+11\n",
      "  -2.44200102e+11 -2.49750104e+11  3.16932910e+00  6.32589991e-02\n",
      "   1.50533316e-02 -2.19839542e-02  5.18851735e-02 -3.27122479e+00\n",
      "   3.30073090e-02 -1.47322095e-03  5.74884064e-02 -4.44772870e-01\n",
      "   9.78274079e-02 -2.47972098e-02 -3.47658596e-02 -2.07227302e-02\n",
      "   1.13921637e-01  1.61638160e-01]]\n",
      "Mean squared error  0.006279460924056619\n",
      "Mean Absolute error  0.061862909129779736\n",
      "R2  0.7687238993552221\n",
      "[0.31477984]\n",
      "[[ 1.04359539e-02  1.84202474e-02  4.50835612e-02  1.38633595e+11\n",
      "  -6.99126437e+10 -7.15015674e+10  3.30049589e+00  6.05579406e-02\n",
      "   3.89417932e-03 -6.86704422e-03  3.77371746e-02 -3.44270350e+00\n",
      "   3.67814210e-02 -3.03317585e-03  5.15445281e-02 -4.75257761e-01\n",
      "   8.80313535e-02 -1.42703719e-02 -3.51340401e-02 -2.10993905e-02\n",
      "   1.08424105e-01  1.91574859e-01]]\n",
      "Mean squared error  0.007983508050977264\n",
      "Mean Absolute error  0.06919446477939431\n",
      "R2  0.773904789237607\n",
      "[0.31385738]\n",
      "[[ 0.01227972  0.01360438  0.04382983 -0.08892793  0.03614574 -0.20776387\n",
      "   3.03973345  0.06505076 -0.00742223 -0.05224285  0.05086809 -3.12340307\n",
      "   0.03712278 -0.0056005   0.05071369 -0.45627195  0.10814109 -0.03580372\n",
      "  -0.03597452 -0.01991253  0.1043508   0.18729739]]\n",
      "Mean squared error  0.0074832633865519315\n",
      "Mean Absolute error  0.06646445902547263\n",
      "R2  0.7630882301661992\n",
      "[0.31940874]\n",
      "[[ 1.26092806e-02  1.42741368e-02  4.39239746e-02 -1.15557127e+12\n",
      "   5.82752276e+11  5.95996645e+11  2.97689662e+00  5.58682774e-02\n",
      "  -2.60576462e-02 -3.21383791e-02  5.60615914e-02 -3.07610858e+00\n",
      "   3.22704214e-02  1.28280283e-02  5.80586253e-02 -4.49022110e-01\n",
      "   1.41787926e-01 -3.11909982e-02 -4.72982628e-02 -3.81119137e-03\n",
      "   1.00039414e-01  1.71199828e-01]]\n",
      "Mean squared error  0.009294232705002594\n",
      "Mean Absolute error  0.07291107183706111\n",
      "R2  0.726637578813168\n",
      "[0.31893232]\n",
      "[[ 6.73171408e-03  1.78300523e-02  4.81424595e-02 -8.90121785e-02\n",
      "  -1.16532672e-01 -5.86416670e-02  2.91558636e+00  5.54451737e-02\n",
      "   1.28865798e-03 -2.94405434e-02  4.72269114e-02 -3.02073340e+00\n",
      "   3.28010646e-02 -7.33420848e-03  5.82280565e-02 -4.82542016e-01\n",
      "   1.00988858e-01 -2.84563097e-02 -3.54693615e-02 -2.21647112e-02\n",
      "   9.90913507e-02  1.90312546e-01]]\n",
      "Mean squared error  0.007471306032905663\n",
      "Mean Absolute error  0.06615684634534223\n",
      "R2  0.742855160696982\n",
      "[0.32103032]\n",
      "[[ 1.13763353e-02  1.76082601e-02  4.52991341e-02 -4.44429584e+12\n",
      "   2.24124948e+12  2.29218697e+12  3.10791248e+00  6.04797870e-02\n",
      "  -2.73867163e-02 -7.37282224e-02  4.73558806e-02 -3.18335641e+00\n",
      "   2.91185054e-02 -3.40308244e-03  6.06971105e-02 -4.55627589e-01\n",
      "   1.21449468e-01 -3.24511248e-02 -5.15759886e-02 -1.65435452e-02\n",
      "   1.17340203e-01  1.66095026e-01]]\n",
      "Mean squared error  0.0055367304452422815\n",
      "Mean Absolute error  0.05706231816060231\n",
      "R2  0.8042986050171756\n"
     ]
    }
   ],
   "source": [
    "for train_index, validation_index in kf.split(X_Train_Scaled_standardScaler):\n",
    "    trainX = np.array(X_Train_Scaled_minMax[train_index])\n",
    "    trainY = np.array(Y_Train_Scaled_minMax[train_index])\n",
    "    validX = np.array(X_Train_Scaled_minMax[validation_index])\n",
    "    validY = np.array(Y_Train_Scaled_minMax[validation_index])\n",
    "    fittedModel=linReg.fit(trainX, trainY)\n",
    "    print(linReg.intercept_)\n",
    "    print(linReg.coef_)\n",
    "    predYRm=linReg.predict(validX)\n",
    "    print('Mean squared error ', mean_squared_error(validY, predYRm))\n",
    "    print('Mean Absolute error ', mean_absolute_error(validY, predYRm))\n",
    "    print('R2 ', r2_score(validY, predYRm))\n",
    "    MSEs=mean_squared_error(validY, predYRm)\n",
    "    MAEs=mean_absolute_error(validY, predYRm)\n",
    "    R2s=r2_score(validY, predYRm)\n",
    "    predictedTestSet=fittedModel.predict(validX)\n",
    "#     predictedTestSet\n"
   ]
  },
  {
   "cell_type": "markdown",
   "metadata": {},
   "source": [
    "## R2 means Main Dataset"
   ]
  },
  {
   "cell_type": "code",
   "execution_count": 127,
   "metadata": {},
   "outputs": [
    {
     "name": "stdout",
     "output_type": "stream",
     "text": [
      "0.0055367304452422815\n",
      "0.05706231816060231\n",
      "0.8042986050171756\n"
     ]
    }
   ],
   "source": [
    "mean_MSE = np.mean(MSEs)\n",
    "mean_absolute=np.mean(MAEs)\n",
    "mean_R2_score=np.mean(R2s)\n",
    "\n",
    "\n",
    "print(mean_MSE)\n",
    "print(mean_absolute)\n",
    "print(mean_R2_score)\n",
    "\n"
   ]
  },
  {
   "cell_type": "code",
   "execution_count": null,
   "metadata": {},
   "outputs": [],
   "source": []
  },
  {
   "cell_type": "code",
   "execution_count": 114,
   "metadata": {},
   "outputs": [],
   "source": [
    "predictedResults=pd.DataFrame(predictedTestSet, columns=['Predicted Life Expectancy']).to_csv('Linear_Prediction_KFOLD.csv')\n"
   ]
  },
  {
   "cell_type": "code",
   "execution_count": null,
   "metadata": {},
   "outputs": [],
   "source": []
  }
 ],
 "metadata": {
  "kernelspec": {
   "display_name": "conda_python3",
   "language": "python",
   "name": "conda_python3"
  },
  "language_info": {
   "codemirror_mode": {
    "name": "ipython",
    "version": 3
   },
   "file_extension": ".py",
   "mimetype": "text/x-python",
   "name": "python",
   "nbconvert_exporter": "python",
   "pygments_lexer": "ipython3",
   "version": "3.6.5"
  }
 },
 "nbformat": 4,
 "nbformat_minor": 4
}
