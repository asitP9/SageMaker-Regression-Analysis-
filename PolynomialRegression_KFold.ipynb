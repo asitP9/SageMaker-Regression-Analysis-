{
 "cells": [
  {
   "cell_type": "code",
   "execution_count": 34,
   "metadata": {},
   "outputs": [],
   "source": [
    "import pandas as pd\n",
    "import matplotlib.pyplot as plt\n",
    "import numpy as np\n",
    "import sklearn as sk"
   ]
  },
  {
   "cell_type": "code",
   "execution_count": 35,
   "metadata": {},
   "outputs": [],
   "source": [
    "lifeExpectancyPrediction_train=pd.read_csv('train.csv')\n",
    "lifeExpectancyPrediction_Test=pd.read_csv('test.csv')"
   ]
  },
  {
   "cell_type": "code",
   "execution_count": 36,
   "metadata": {},
   "outputs": [
    {
     "name": "stdout",
     "output_type": "stream",
     "text": [
      "KFold(n_splits=7, random_state=None, shuffle=True)\n"
     ]
    },
    {
     "name": "stderr",
     "output_type": "stream",
     "text": [
      "/home/ec2-user/anaconda3/envs/python3/lib/python3.6/site-packages/sklearn/preprocessing/data.py:645: DataConversionWarning: Data with input dtype int64, float64 were all converted to float64 by StandardScaler.\n",
      "  return self.partial_fit(X, y)\n",
      "/home/ec2-user/anaconda3/envs/python3/lib/python3.6/site-packages/ipykernel/__main__.py:10: DataConversionWarning: Data with input dtype int64, float64 were all converted to float64 by StandardScaler.\n"
     ]
    }
   ],
   "source": [
    "from sklearn.model_selection import KFold \n",
    "X_Train = lifeExpectancyPrediction_train.drop(['ID','TARGET_LifeExpectancy'], axis=1)\n",
    "Y_Train=  lifeExpectancyPrediction_train[['TARGET_LifeExpectancy']]\n",
    "\n",
    "\n",
    "from sklearn.preprocessing import StandardScaler\n",
    "\n",
    "scaledSet = StandardScaler()\n",
    "scaledSet.fit(X_Train)\n",
    "X_Train_Scaled = scaledSet.transform(X_Train)\n",
    "\n",
    "\n",
    "X_Test = lifeExpectancyPrediction_Test.drop('ID', axis=1)\n",
    "\n",
    "# kf = KFold(n_splits=5, shuffle=True)\n",
    "kf = KFold(n_splits=7, shuffle=True)\n",
    "# kf = KFold(n_splits=10, shuffle=True)\n",
    "\n",
    "kf.get_n_splits(X_Train_Scaled)\n",
    "\n",
    "print(kf)"
   ]
  },
  {
   "cell_type": "code",
   "execution_count": 37,
   "metadata": {},
   "outputs": [],
   "source": [
    "from sklearn import linear_model\n",
    "from sklearn.metrics import mean_squared_error, mean_absolute_error, r2_score\n",
    "\n",
    "linReg = linear_model.LinearRegression()"
   ]
  },
  {
   "cell_type": "code",
   "execution_count": 38,
   "metadata": {},
   "outputs": [],
   "source": [
    "from sklearn.preprocessing import PolynomialFeatures\n",
    "from sklearn.metrics import mean_squared_error, mean_absolute_error, r2_score\n",
    "\n",
    "for train_index, validation_index in kf.split(X_Train_Scaled):\n",
    "    trainX = np.array(X_Train.loc[train_index])\n",
    "    trainY = np.array(Y_Train.loc[train_index])\n",
    "    validX = np.array(X_Train.loc[validation_index])\n",
    "    validY = np.array(Y_Train.loc[validation_index])\n",
    "    \n",
    "    polyFeat = PolynomialFeatures(degree=2, include_bias=True)\n",
    "    polyTrainX = polyFeat.fit_transform(trainX)\n",
    "    polyValidX = polyFeat.fit_transform(validX)\n",
    "    linReg.fit(polyTrainX, trainY)\n",
    "    predYRm=linReg.predict(polyValidX)\n",
    "    MSEs=mean_squared_error(validY, predYRm)\n",
    "    MAEs=mean_absolute_error(validY, predYRm)\n",
    "    R2Score=r2_score(validY, predYRm)\n"
   ]
  },
  {
   "cell_type": "code",
   "execution_count": 39,
   "metadata": {},
   "outputs": [
    {
     "name": "stdout",
     "output_type": "stream",
     "text": [
      "18.754349748932256\n",
      "3.2668016562389415\n",
      "0.7949134661558882\n"
     ]
    }
   ],
   "source": [
    "mean_MSE = np.mean(MSEs)\n",
    "mean_absolute=np.mean(MAEs)\n",
    "mean_R2_score=np.mean(R2Score)\n",
    "\n",
    "\n",
    "print(mean_MSE)\n",
    "print(mean_absolute)\n",
    "print(mean_R2_score)"
   ]
  },
  {
   "cell_type": "code",
   "execution_count": null,
   "metadata": {},
   "outputs": [],
   "source": []
  },
  {
   "cell_type": "code",
   "execution_count": null,
   "metadata": {},
   "outputs": [],
   "source": []
  }
 ],
 "metadata": {
  "kernelspec": {
   "display_name": "conda_python3",
   "language": "python",
   "name": "conda_python3"
  },
  "language_info": {
   "codemirror_mode": {
    "name": "ipython",
    "version": 3
   },
   "file_extension": ".py",
   "mimetype": "text/x-python",
   "name": "python",
   "nbconvert_exporter": "python",
   "pygments_lexer": "ipython3",
   "version": "3.6.5"
  }
 },
 "nbformat": 4,
 "nbformat_minor": 4
}
